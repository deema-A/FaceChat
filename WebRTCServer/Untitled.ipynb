{
 "cells": [
  {
   "cell_type": "code",
   "execution_count": 80,
   "id": "60ef2514-ab28-4722-890e-3083a8b0922c",
   "metadata": {},
   "outputs": [],
   "source": [
    "import os\n",
    "import base64, io\n",
    "from IPython.display import Audio\n",
    "import pickle\n",
    "import soundfile as sf\n",
    "\n",
    "from scipy.io.wavfile import read, write"
   ]
  },
  {
   "cell_type": "code",
   "execution_count": 90,
   "id": "d7d31294-ea47-46d6-ad4a-365d690a419c",
   "metadata": {},
   "outputs": [],
   "source": [
    "import moviepy.editor as moviepy"
   ]
  },
  {
   "cell_type": "code",
   "execution_count": 95,
   "id": "e4c2b730-2d36-47f8-beec-e6bee77ebfe8",
   "metadata": {},
   "outputs": [],
   "source": [
    "# clip = moviepy.VideoFileClip(\"temp/5.webm\")"
   ]
  },
  {
   "cell_type": "code",
   "execution_count": null,
   "id": "97f97f19-d61b-48ff-8c7b-68e7483e7487",
   "metadata": {},
   "outputs": [],
   "source": []
  },
  {
   "cell_type": "code",
   "execution_count": null,
   "id": "d7a43b2a-35eb-4d9e-852c-a940abdda519",
   "metadata": {},
   "outputs": [],
   "source": []
  },
  {
   "cell_type": "code",
   "execution_count": null,
   "id": "3dbcb53f-a46b-4fe0-a86b-08a430b8c6ac",
   "metadata": {},
   "outputs": [],
   "source": []
  },
  {
   "cell_type": "code",
   "execution_count": 77,
   "id": "1512adf3-6c10-483c-b569-0f4042b3618b",
   "metadata": {},
   "outputs": [],
   "source": [
    "with open(\"temp/5.base64\", \"rb\") as f:\n",
    "    data = f.read()"
   ]
  },
  {
   "cell_type": "code",
   "execution_count": 78,
   "id": "89f77e8b-91e1-459e-a3fc-26c935ffd0a0",
   "metadata": {},
   "outputs": [],
   "source": [
    "with open(\"temp/test.webm\", \"wb\") as f:\n",
    "    f.write(data)"
   ]
  },
  {
   "cell_type": "code",
   "execution_count": null,
   "id": "1610d052-9ff8-4ddd-b4de-f461949f3807",
   "metadata": {
    "jupyter": {
     "source_hidden": true
    },
    "tags": []
   },
   "outputs": [],
   "source": []
  },
  {
   "cell_type": "code",
   "execution_count": null,
   "id": "7d688249-2a0e-4f2c-a083-a9fd141d3d46",
   "metadata": {},
   "outputs": [],
   "source": []
  },
  {
   "cell_type": "code",
   "execution_count": 85,
   "id": "6fb5b07d-a6dd-4c8f-b6d8-edfa65a948b8",
   "metadata": {},
   "outputs": [],
   "source": [
    "with open(\"temp/0.pkl\", \"wb\") as f:\n",
    "    pickle.dump(\"test\", f)"
   ]
  },
  {
   "cell_type": "code",
   "execution_count": 86,
   "id": "0b5cfb93-ac17-4bcd-9b93-84041ac11428",
   "metadata": {},
   "outputs": [],
   "source": [
    "with open(\"temp/0.pkl\", \"rb\") as f:\n",
    "    data = pickle.load(f)"
   ]
  },
  {
   "cell_type": "code",
   "execution_count": 87,
   "id": "4da95492-a228-4bfd-904e-1986ec7d4e0c",
   "metadata": {},
   "outputs": [
    {
     "data": {
      "text/plain": [
       "'test'"
      ]
     },
     "execution_count": 87,
     "metadata": {},
     "output_type": "execute_result"
    }
   ],
   "source": [
    "data"
   ]
  },
  {
   "cell_type": "code",
   "execution_count": null,
   "id": "f01df1e5-201c-474b-bf1c-3db64a08c8c5",
   "metadata": {},
   "outputs": [],
   "source": []
  },
  {
   "cell_type": "code",
   "execution_count": null,
   "id": "38b5228f-0ffd-4009-9d9a-88901ca81b17",
   "metadata": {},
   "outputs": [],
   "source": []
  },
  {
   "cell_type": "code",
   "execution_count": null,
   "id": "1a8416f4-77a0-4bc5-97aa-1fba3c5773fa",
   "metadata": {},
   "outputs": [],
   "source": []
  },
  {
   "cell_type": "code",
   "execution_count": null,
   "id": "5e3d4fd5-3804-4a3a-8c4c-0b62652a2fb2",
   "metadata": {},
   "outputs": [],
   "source": []
  },
  {
   "cell_type": "code",
   "execution_count": 50,
   "id": "74351863-61d6-45fa-8f00-31e92d9a513a",
   "metadata": {},
   "outputs": [
    {
     "data": {
      "text/plain": [
       "6591"
      ]
     },
     "execution_count": 50,
     "metadata": {},
     "output_type": "execute_result"
    }
   ],
   "source": [
    "with open(\"temp/29.base64\") as f:\n",
    "    data = f.read()\n",
    "\n",
    "base64_string = data\n",
    "idx = base64_string.find('base64,')\n",
    "base64_string = base64_string[idx + 7:]\n",
    "sbuf = io.BytesIO()\n",
    "sbuf.write(base64.b64decode(base64_string))"
   ]
  },
  {
   "cell_type": "code",
   "execution_count": 25,
   "id": "3646185c-c426-4838-92c3-bac94e6e571e",
   "metadata": {},
   "outputs": [],
   "source": [
    "# read(sbuf)"
   ]
  },
  {
   "cell_type": "code",
   "execution_count": 30,
   "id": "01df9919-919a-4de3-a579-baa0c45176b2",
   "metadata": {},
   "outputs": [],
   "source": [
    "with open(\"test.wav\", \"rb\") as f:\n",
    "    data = f.read()\n",
    "    \n",
    "base64_data = base64.b64encode(data)"
   ]
  },
  {
   "cell_type": "code",
   "execution_count": 33,
   "id": "69dd80bb-8c32-4c23-9a8e-31d028af2c5e",
   "metadata": {},
   "outputs": [
    {
     "data": {
      "text/plain": [
       "538014"
      ]
     },
     "execution_count": 33,
     "metadata": {},
     "output_type": "execute_result"
    }
   ],
   "source": [
    "sbuf = io.BytesIO()\n",
    "sbuf.write(base64.b64decode(base64_data))"
   ]
  },
  {
   "cell_type": "code",
   "execution_count": 48,
   "id": "60241674-afed-4cf0-938f-9595caf405d2",
   "metadata": {},
   "outputs": [
    {
     "ename": "ValueError",
     "evalue": "File format b'' not understood. Only 'RIFF' and 'RIFX' supported.",
     "output_type": "error",
     "traceback": [
      "\u001b[0;31m---------------------------------------------------------------------------\u001b[0m",
      "\u001b[0;31mValueError\u001b[0m                                Traceback (most recent call last)",
      "\u001b[0;32m/tmp/ipykernel_427989/3510510189.py\u001b[0m in \u001b[0;36m<module>\u001b[0;34m\u001b[0m\n\u001b[0;32m----> 1\u001b[0;31m \u001b[0mrate\u001b[0m\u001b[0;34m,\u001b[0m \u001b[0mdata\u001b[0m \u001b[0;34m=\u001b[0m \u001b[0mread\u001b[0m\u001b[0;34m(\u001b[0m\u001b[0msbuf\u001b[0m\u001b[0;34m)\u001b[0m\u001b[0;34m\u001b[0m\u001b[0;34m\u001b[0m\u001b[0m\n\u001b[0m",
      "\u001b[0;32m~/anaconda3/lib/python3.9/site-packages/scipy/io/wavfile.py\u001b[0m in \u001b[0;36mread\u001b[0;34m(filename, mmap)\u001b[0m\n\u001b[1;32m    648\u001b[0m \u001b[0;34m\u001b[0m\u001b[0m\n\u001b[1;32m    649\u001b[0m     \u001b[0;32mtry\u001b[0m\u001b[0;34m:\u001b[0m\u001b[0;34m\u001b[0m\u001b[0;34m\u001b[0m\u001b[0m\n\u001b[0;32m--> 650\u001b[0;31m         \u001b[0mfile_size\u001b[0m\u001b[0;34m,\u001b[0m \u001b[0mis_big_endian\u001b[0m \u001b[0;34m=\u001b[0m \u001b[0m_read_riff_chunk\u001b[0m\u001b[0;34m(\u001b[0m\u001b[0mfid\u001b[0m\u001b[0;34m)\u001b[0m\u001b[0;34m\u001b[0m\u001b[0;34m\u001b[0m\u001b[0m\n\u001b[0m\u001b[1;32m    651\u001b[0m         \u001b[0mfmt_chunk_received\u001b[0m \u001b[0;34m=\u001b[0m \u001b[0;32mFalse\u001b[0m\u001b[0;34m\u001b[0m\u001b[0;34m\u001b[0m\u001b[0m\n\u001b[1;32m    652\u001b[0m         \u001b[0mdata_chunk_received\u001b[0m \u001b[0;34m=\u001b[0m \u001b[0;32mFalse\u001b[0m\u001b[0;34m\u001b[0m\u001b[0;34m\u001b[0m\u001b[0m\n",
      "\u001b[0;32m~/anaconda3/lib/python3.9/site-packages/scipy/io/wavfile.py\u001b[0m in \u001b[0;36m_read_riff_chunk\u001b[0;34m(fid)\u001b[0m\n\u001b[1;32m    519\u001b[0m     \u001b[0;32melse\u001b[0m\u001b[0;34m:\u001b[0m\u001b[0;34m\u001b[0m\u001b[0;34m\u001b[0m\u001b[0m\n\u001b[1;32m    520\u001b[0m         \u001b[0;31m# There are also .wav files with \"FFIR\" or \"XFIR\" signatures?\u001b[0m\u001b[0;34m\u001b[0m\u001b[0;34m\u001b[0m\u001b[0m\n\u001b[0;32m--> 521\u001b[0;31m         raise ValueError(f\"File format {repr(str1)} not understood. Only \"\n\u001b[0m\u001b[1;32m    522\u001b[0m                          \"'RIFF' and 'RIFX' supported.\")\n\u001b[1;32m    523\u001b[0m \u001b[0;34m\u001b[0m\u001b[0m\n",
      "\u001b[0;31mValueError\u001b[0m: File format b'' not understood. Only 'RIFF' and 'RIFX' supported."
     ]
    }
   ],
   "source": [
    "rate, data = read(sbuf)"
   ]
  },
  {
   "cell_type": "code",
   "execution_count": 49,
   "id": "176fb651-fd96-420b-8b85-99948143a225",
   "metadata": {},
   "outputs": [
    {
     "ename": "ValueError",
     "evalue": "could not convert string to float: 'data:audio/wav; codecs=ms_pcm;base64,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'",
     "output_type": "error",
     "traceback": [
      "\u001b[0;31m---------------------------------------------------------------------------\u001b[0m",
      "\u001b[0;31mValueError\u001b[0m                                Traceback (most recent call last)",
      "\u001b[0;32m/tmp/ipykernel_427989/2790022560.py\u001b[0m in \u001b[0;36m<module>\u001b[0;34m\u001b[0m\n\u001b[0;32m----> 1\u001b[0;31m \u001b[0mAudio\u001b[0m\u001b[0;34m(\u001b[0m\u001b[0mdata\u001b[0m\u001b[0;34m,\u001b[0m \u001b[0mrate\u001b[0m\u001b[0;34m=\u001b[0m\u001b[0mrate\u001b[0m\u001b[0;34m)\u001b[0m\u001b[0;34m\u001b[0m\u001b[0;34m\u001b[0m\u001b[0m\n\u001b[0m",
      "\u001b[0;32m~/anaconda3/lib/python3.9/site-packages/IPython/lib/display.py\u001b[0m in \u001b[0;36m__init__\u001b[0;34m(self, data, filename, url, embed, rate, autoplay, normalize, element_id)\u001b[0m\n\u001b[1;32m    115\u001b[0m             \u001b[0;32mif\u001b[0m \u001b[0mrate\u001b[0m \u001b[0;32mis\u001b[0m \u001b[0;32mNone\u001b[0m\u001b[0;34m:\u001b[0m\u001b[0;34m\u001b[0m\u001b[0;34m\u001b[0m\u001b[0m\n\u001b[1;32m    116\u001b[0m                 \u001b[0;32mraise\u001b[0m \u001b[0mValueError\u001b[0m\u001b[0;34m(\u001b[0m\u001b[0;34m\"rate must be specified when data is a numpy array or list of audio samples.\"\u001b[0m\u001b[0;34m)\u001b[0m\u001b[0;34m\u001b[0m\u001b[0;34m\u001b[0m\u001b[0m\n\u001b[0;32m--> 117\u001b[0;31m             \u001b[0mself\u001b[0m\u001b[0;34m.\u001b[0m\u001b[0mdata\u001b[0m \u001b[0;34m=\u001b[0m \u001b[0mAudio\u001b[0m\u001b[0;34m.\u001b[0m\u001b[0m_make_wav\u001b[0m\u001b[0;34m(\u001b[0m\u001b[0mdata\u001b[0m\u001b[0;34m,\u001b[0m \u001b[0mrate\u001b[0m\u001b[0;34m,\u001b[0m \u001b[0mnormalize\u001b[0m\u001b[0;34m)\u001b[0m\u001b[0;34m\u001b[0m\u001b[0;34m\u001b[0m\u001b[0m\n\u001b[0m\u001b[1;32m    118\u001b[0m \u001b[0;34m\u001b[0m\u001b[0m\n\u001b[1;32m    119\u001b[0m     \u001b[0;32mdef\u001b[0m \u001b[0mreload\u001b[0m\u001b[0;34m(\u001b[0m\u001b[0mself\u001b[0m\u001b[0;34m)\u001b[0m\u001b[0;34m:\u001b[0m\u001b[0;34m\u001b[0m\u001b[0;34m\u001b[0m\u001b[0m\n",
      "\u001b[0;32m~/anaconda3/lib/python3.9/site-packages/IPython/lib/display.py\u001b[0m in \u001b[0;36m_make_wav\u001b[0;34m(data, rate, normalize)\u001b[0m\n\u001b[1;32m    137\u001b[0m \u001b[0;34m\u001b[0m\u001b[0m\n\u001b[1;32m    138\u001b[0m         \u001b[0;32mtry\u001b[0m\u001b[0;34m:\u001b[0m\u001b[0;34m\u001b[0m\u001b[0;34m\u001b[0m\u001b[0m\n\u001b[0;32m--> 139\u001b[0;31m             \u001b[0mscaled\u001b[0m\u001b[0;34m,\u001b[0m \u001b[0mnchan\u001b[0m \u001b[0;34m=\u001b[0m \u001b[0mAudio\u001b[0m\u001b[0;34m.\u001b[0m\u001b[0m_validate_and_normalize_with_numpy\u001b[0m\u001b[0;34m(\u001b[0m\u001b[0mdata\u001b[0m\u001b[0;34m,\u001b[0m \u001b[0mnormalize\u001b[0m\u001b[0;34m)\u001b[0m\u001b[0;34m\u001b[0m\u001b[0;34m\u001b[0m\u001b[0m\n\u001b[0m\u001b[1;32m    140\u001b[0m         \u001b[0;32mexcept\u001b[0m \u001b[0mImportError\u001b[0m\u001b[0;34m:\u001b[0m\u001b[0;34m\u001b[0m\u001b[0;34m\u001b[0m\u001b[0m\n\u001b[1;32m    141\u001b[0m             \u001b[0mscaled\u001b[0m\u001b[0;34m,\u001b[0m \u001b[0mnchan\u001b[0m \u001b[0;34m=\u001b[0m \u001b[0mAudio\u001b[0m\u001b[0;34m.\u001b[0m\u001b[0m_validate_and_normalize_without_numpy\u001b[0m\u001b[0;34m(\u001b[0m\u001b[0mdata\u001b[0m\u001b[0;34m,\u001b[0m \u001b[0mnormalize\u001b[0m\u001b[0;34m)\u001b[0m\u001b[0;34m\u001b[0m\u001b[0;34m\u001b[0m\u001b[0m\n",
      "\u001b[0;32m~/anaconda3/lib/python3.9/site-packages/IPython/lib/display.py\u001b[0m in \u001b[0;36m_validate_and_normalize_with_numpy\u001b[0;34m(data, normalize)\u001b[0m\n\u001b[1;32m    157\u001b[0m         \u001b[0;32mimport\u001b[0m \u001b[0mnumpy\u001b[0m \u001b[0;32mas\u001b[0m \u001b[0mnp\u001b[0m\u001b[0;34m\u001b[0m\u001b[0;34m\u001b[0m\u001b[0m\n\u001b[1;32m    158\u001b[0m \u001b[0;34m\u001b[0m\u001b[0m\n\u001b[0;32m--> 159\u001b[0;31m         \u001b[0mdata\u001b[0m \u001b[0;34m=\u001b[0m \u001b[0mnp\u001b[0m\u001b[0;34m.\u001b[0m\u001b[0marray\u001b[0m\u001b[0;34m(\u001b[0m\u001b[0mdata\u001b[0m\u001b[0;34m,\u001b[0m \u001b[0mdtype\u001b[0m\u001b[0;34m=\u001b[0m\u001b[0mfloat\u001b[0m\u001b[0;34m)\u001b[0m\u001b[0;34m\u001b[0m\u001b[0;34m\u001b[0m\u001b[0m\n\u001b[0m\u001b[1;32m    160\u001b[0m         \u001b[0;32mif\u001b[0m \u001b[0mlen\u001b[0m\u001b[0;34m(\u001b[0m\u001b[0mdata\u001b[0m\u001b[0;34m.\u001b[0m\u001b[0mshape\u001b[0m\u001b[0;34m)\u001b[0m \u001b[0;34m==\u001b[0m \u001b[0;36m1\u001b[0m\u001b[0;34m:\u001b[0m\u001b[0;34m\u001b[0m\u001b[0;34m\u001b[0m\u001b[0m\n\u001b[1;32m    161\u001b[0m             \u001b[0mnchan\u001b[0m \u001b[0;34m=\u001b[0m \u001b[0;36m1\u001b[0m\u001b[0;34m\u001b[0m\u001b[0;34m\u001b[0m\u001b[0m\n",
      "\u001b[0;31mValueError\u001b[0m: could not convert string to float: 'data:audio/wav; codecs=ms_pcm;base64,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'"
     ]
    }
   ],
   "source": [
    "Audio(data, rate=rate)"
   ]
  },
  {
   "cell_type": "code",
   "execution_count": null,
   "id": "63af176c-a152-4da4-9e0c-6b380502fd48",
   "metadata": {},
   "outputs": [],
   "source": []
  },
  {
   "cell_type": "code",
   "execution_count": null,
   "id": "2e4f8ed8-a70b-4575-9d53-71d0bf1ea415",
   "metadata": {},
   "outputs": [],
   "source": []
  },
  {
   "cell_type": "code",
   "execution_count": 34,
   "id": "01f64059-4d15-49f8-ab38-b95733435b99",
   "metadata": {},
   "outputs": [
    {
     "ename": "TypeError",
     "evalue": "a bytes-like object is required, not '_io.BytesIO'",
     "output_type": "error",
     "traceback": [
      "\u001b[0;31m---------------------------------------------------------------------------\u001b[0m",
      "\u001b[0;31mTypeError\u001b[0m                                 Traceback (most recent call last)",
      "\u001b[0;32m/tmp/ipykernel_427989/3236066333.py\u001b[0m in \u001b[0;36m<module>\u001b[0;34m\u001b[0m\n\u001b[0;32m----> 1\u001b[0;31m \u001b[0mdata\u001b[0m\u001b[0;34m,\u001b[0m \u001b[0msamplerate\u001b[0m \u001b[0;34m=\u001b[0m \u001b[0msf\u001b[0m\u001b[0;34m.\u001b[0m\u001b[0mread\u001b[0m\u001b[0;34m(\u001b[0m\u001b[0mio\u001b[0m\u001b[0;34m.\u001b[0m\u001b[0mBytesIO\u001b[0m\u001b[0;34m(\u001b[0m\u001b[0msbuf\u001b[0m\u001b[0;34m)\u001b[0m\u001b[0;34m)\u001b[0m\u001b[0;34m\u001b[0m\u001b[0;34m\u001b[0m\u001b[0m\n\u001b[0m",
      "\u001b[0;31mTypeError\u001b[0m: a bytes-like object is required, not '_io.BytesIO'"
     ]
    }
   ],
   "source": [
    "data, samplerate = sf.read(io.BytesIO(sbuf))"
   ]
  },
  {
   "cell_type": "code",
   "execution_count": null,
   "id": "4cd4bc25-a6df-4096-a52c-cd3b528e3791",
   "metadata": {},
   "outputs": [],
   "source": []
  },
  {
   "cell_type": "code",
   "execution_count": null,
   "id": "72ca83eb-cafc-4701-a5dc-e64581eeeb76",
   "metadata": {},
   "outputs": [],
   "source": []
  },
  {
   "cell_type": "code",
   "execution_count": null,
   "id": "ca26cf60-d8b4-4428-9671-da04b44c55f3",
   "metadata": {},
   "outputs": [],
   "source": []
  },
  {
   "cell_type": "code",
   "execution_count": 17,
   "id": "bc946001-9435-4b0e-8872-bd77fbeff8bb",
   "metadata": {},
   "outputs": [],
   "source": [
    "# base64.b64decode(base64_string, \" /\")"
   ]
  },
  {
   "cell_type": "code",
   "execution_count": 12,
   "id": "5ad65e0d-fcc0-4673-b57d-b917f63e93af",
   "metadata": {},
   "outputs": [
    {
     "ename": "TypeError",
     "evalue": "a bytes-like object is required, not '_io.BytesIO'",
     "output_type": "error",
     "traceback": [
      "\u001b[0;31m---------------------------------------------------------------------------\u001b[0m",
      "\u001b[0;31mTypeError\u001b[0m                                 Traceback (most recent call last)",
      "\u001b[0;32m/tmp/ipykernel_427989/1849045739.py\u001b[0m in \u001b[0;36m<module>\u001b[0;34m\u001b[0m\n\u001b[1;32m      1\u001b[0m \u001b[0;32mimport\u001b[0m \u001b[0msoundfile\u001b[0m \u001b[0;32mas\u001b[0m \u001b[0msf\u001b[0m\u001b[0;34m\u001b[0m\u001b[0;34m\u001b[0m\u001b[0m\n\u001b[1;32m      2\u001b[0m \u001b[0;34m\u001b[0m\u001b[0m\n\u001b[0;32m----> 3\u001b[0;31m \u001b[0mdata\u001b[0m\u001b[0;34m,\u001b[0m \u001b[0msamplerate\u001b[0m \u001b[0;34m=\u001b[0m \u001b[0msf\u001b[0m\u001b[0;34m.\u001b[0m\u001b[0mread\u001b[0m\u001b[0;34m(\u001b[0m\u001b[0mio\u001b[0m\u001b[0;34m.\u001b[0m\u001b[0mBytesIO\u001b[0m\u001b[0;34m(\u001b[0m\u001b[0msbuf\u001b[0m\u001b[0;34m)\u001b[0m\u001b[0;34m)\u001b[0m\u001b[0;34m\u001b[0m\u001b[0;34m\u001b[0m\u001b[0m\n\u001b[0m",
      "\u001b[0;31mTypeError\u001b[0m: a bytes-like object is required, not '_io.BytesIO'"
     ]
    }
   ],
   "source": [
    "\n",
    "\n",
    "data, samplerate = sf.read(io.BytesIO(sbuf))"
   ]
  },
  {
   "cell_type": "code",
   "execution_count": 13,
   "id": "139d4c62-6fc0-4fdf-a404-bddfc563a14d",
   "metadata": {},
   "outputs": [
    {
     "data": {
      "text/plain": [
       "<_io.BytesIO at 0x7fb122f97310>"
      ]
     },
     "execution_count": 13,
     "metadata": {},
     "output_type": "execute_result"
    }
   ],
   "source": [
    "sbuf"
   ]
  },
  {
   "cell_type": "code",
   "execution_count": null,
   "id": "2004fc70-63f8-49c6-a4ad-b195b8e704ac",
   "metadata": {},
   "outputs": [],
   "source": []
  },
  {
   "cell_type": "code",
   "execution_count": 9,
   "id": "8b66ebce-d15f-45ea-b37a-732ffa2c5e59",
   "metadata": {},
   "outputs": [
    {
     "ename": "ValueError",
     "evalue": "rate must be specified when data is a numpy array or list of audio samples.",
     "output_type": "error",
     "traceback": [
      "\u001b[0;31m---------------------------------------------------------------------------\u001b[0m",
      "\u001b[0;31mValueError\u001b[0m                                Traceback (most recent call last)",
      "\u001b[0;32m/tmp/ipykernel_427989/2561004793.py\u001b[0m in \u001b[0;36m<module>\u001b[0;34m\u001b[0m\n\u001b[1;32m      1\u001b[0m \u001b[0;32mimport\u001b[0m \u001b[0mIPython\u001b[0m\u001b[0;34m.\u001b[0m\u001b[0mdisplay\u001b[0m \u001b[0;32mas\u001b[0m \u001b[0mipd\u001b[0m\u001b[0;34m\u001b[0m\u001b[0;34m\u001b[0m\u001b[0m\n\u001b[0;32m----> 2\u001b[0;31m \u001b[0mipd\u001b[0m\u001b[0;34m.\u001b[0m\u001b[0mAudio\u001b[0m\u001b[0;34m(\u001b[0m\u001b[0msbuf\u001b[0m\u001b[0;34m)\u001b[0m\u001b[0;34m\u001b[0m\u001b[0;34m\u001b[0m\u001b[0m\n\u001b[0m",
      "\u001b[0;32m~/anaconda3/lib/python3.9/site-packages/IPython/lib/display.py\u001b[0m in \u001b[0;36m__init__\u001b[0;34m(self, data, filename, url, embed, rate, autoplay, normalize, element_id)\u001b[0m\n\u001b[1;32m    114\u001b[0m         \u001b[0;32mif\u001b[0m \u001b[0mself\u001b[0m\u001b[0;34m.\u001b[0m\u001b[0mdata\u001b[0m \u001b[0;32mis\u001b[0m \u001b[0;32mnot\u001b[0m \u001b[0;32mNone\u001b[0m \u001b[0;32mand\u001b[0m \u001b[0;32mnot\u001b[0m \u001b[0misinstance\u001b[0m\u001b[0;34m(\u001b[0m\u001b[0mself\u001b[0m\u001b[0;34m.\u001b[0m\u001b[0mdata\u001b[0m\u001b[0;34m,\u001b[0m \u001b[0mbytes\u001b[0m\u001b[0;34m)\u001b[0m\u001b[0;34m:\u001b[0m\u001b[0;34m\u001b[0m\u001b[0;34m\u001b[0m\u001b[0m\n\u001b[1;32m    115\u001b[0m             \u001b[0;32mif\u001b[0m \u001b[0mrate\u001b[0m \u001b[0;32mis\u001b[0m \u001b[0;32mNone\u001b[0m\u001b[0;34m:\u001b[0m\u001b[0;34m\u001b[0m\u001b[0;34m\u001b[0m\u001b[0m\n\u001b[0;32m--> 116\u001b[0;31m                 \u001b[0;32mraise\u001b[0m \u001b[0mValueError\u001b[0m\u001b[0;34m(\u001b[0m\u001b[0;34m\"rate must be specified when data is a numpy array or list of audio samples.\"\u001b[0m\u001b[0;34m)\u001b[0m\u001b[0;34m\u001b[0m\u001b[0;34m\u001b[0m\u001b[0m\n\u001b[0m\u001b[1;32m    117\u001b[0m             \u001b[0mself\u001b[0m\u001b[0;34m.\u001b[0m\u001b[0mdata\u001b[0m \u001b[0;34m=\u001b[0m \u001b[0mAudio\u001b[0m\u001b[0;34m.\u001b[0m\u001b[0m_make_wav\u001b[0m\u001b[0;34m(\u001b[0m\u001b[0mdata\u001b[0m\u001b[0;34m,\u001b[0m \u001b[0mrate\u001b[0m\u001b[0;34m,\u001b[0m \u001b[0mnormalize\u001b[0m\u001b[0;34m)\u001b[0m\u001b[0;34m\u001b[0m\u001b[0;34m\u001b[0m\u001b[0m\n\u001b[1;32m    118\u001b[0m \u001b[0;34m\u001b[0m\u001b[0m\n",
      "\u001b[0;31mValueError\u001b[0m: rate must be specified when data is a numpy array or list of audio samples."
     ]
    }
   ],
   "source": [
    "import IPython.display as ipd\n"
   ]
  },
  {
   "cell_type": "code",
   "execution_count": 35,
   "id": "1bd2dddf-78e1-4f19-bf5f-75a67c1c2915",
   "metadata": {},
   "outputs": [
    {
     "ename": "TypeError",
     "evalue": "float() argument must be a string or a number, not '_io.BytesIO'",
     "output_type": "error",
     "traceback": [
      "\u001b[0;31m---------------------------------------------------------------------------\u001b[0m",
      "\u001b[0;31mTypeError\u001b[0m                                 Traceback (most recent call last)",
      "\u001b[0;32m/tmp/ipykernel_427989/3772919069.py\u001b[0m in \u001b[0;36m<module>\u001b[0;34m\u001b[0m\n\u001b[0;32m----> 1\u001b[0;31m \u001b[0mipd\u001b[0m\u001b[0;34m.\u001b[0m\u001b[0mAudio\u001b[0m\u001b[0;34m(\u001b[0m\u001b[0msbuf\u001b[0m\u001b[0;34m,\u001b[0m \u001b[0mrate\u001b[0m\u001b[0;34m=\u001b[0m\u001b[0;36m48000\u001b[0m\u001b[0;34m)\u001b[0m\u001b[0;34m\u001b[0m\u001b[0;34m\u001b[0m\u001b[0m\n\u001b[0m",
      "\u001b[0;32m~/anaconda3/lib/python3.9/site-packages/IPython/lib/display.py\u001b[0m in \u001b[0;36m__init__\u001b[0;34m(self, data, filename, url, embed, rate, autoplay, normalize, element_id)\u001b[0m\n\u001b[1;32m    115\u001b[0m             \u001b[0;32mif\u001b[0m \u001b[0mrate\u001b[0m \u001b[0;32mis\u001b[0m \u001b[0;32mNone\u001b[0m\u001b[0;34m:\u001b[0m\u001b[0;34m\u001b[0m\u001b[0;34m\u001b[0m\u001b[0m\n\u001b[1;32m    116\u001b[0m                 \u001b[0;32mraise\u001b[0m \u001b[0mValueError\u001b[0m\u001b[0;34m(\u001b[0m\u001b[0;34m\"rate must be specified when data is a numpy array or list of audio samples.\"\u001b[0m\u001b[0;34m)\u001b[0m\u001b[0;34m\u001b[0m\u001b[0;34m\u001b[0m\u001b[0m\n\u001b[0;32m--> 117\u001b[0;31m             \u001b[0mself\u001b[0m\u001b[0;34m.\u001b[0m\u001b[0mdata\u001b[0m \u001b[0;34m=\u001b[0m \u001b[0mAudio\u001b[0m\u001b[0;34m.\u001b[0m\u001b[0m_make_wav\u001b[0m\u001b[0;34m(\u001b[0m\u001b[0mdata\u001b[0m\u001b[0;34m,\u001b[0m \u001b[0mrate\u001b[0m\u001b[0;34m,\u001b[0m \u001b[0mnormalize\u001b[0m\u001b[0;34m)\u001b[0m\u001b[0;34m\u001b[0m\u001b[0;34m\u001b[0m\u001b[0m\n\u001b[0m\u001b[1;32m    118\u001b[0m \u001b[0;34m\u001b[0m\u001b[0m\n\u001b[1;32m    119\u001b[0m     \u001b[0;32mdef\u001b[0m \u001b[0mreload\u001b[0m\u001b[0;34m(\u001b[0m\u001b[0mself\u001b[0m\u001b[0;34m)\u001b[0m\u001b[0;34m:\u001b[0m\u001b[0;34m\u001b[0m\u001b[0;34m\u001b[0m\u001b[0m\n",
      "\u001b[0;32m~/anaconda3/lib/python3.9/site-packages/IPython/lib/display.py\u001b[0m in \u001b[0;36m_make_wav\u001b[0;34m(data, rate, normalize)\u001b[0m\n\u001b[1;32m    137\u001b[0m \u001b[0;34m\u001b[0m\u001b[0m\n\u001b[1;32m    138\u001b[0m         \u001b[0;32mtry\u001b[0m\u001b[0;34m:\u001b[0m\u001b[0;34m\u001b[0m\u001b[0;34m\u001b[0m\u001b[0m\n\u001b[0;32m--> 139\u001b[0;31m             \u001b[0mscaled\u001b[0m\u001b[0;34m,\u001b[0m \u001b[0mnchan\u001b[0m \u001b[0;34m=\u001b[0m \u001b[0mAudio\u001b[0m\u001b[0;34m.\u001b[0m\u001b[0m_validate_and_normalize_with_numpy\u001b[0m\u001b[0;34m(\u001b[0m\u001b[0mdata\u001b[0m\u001b[0;34m,\u001b[0m \u001b[0mnormalize\u001b[0m\u001b[0;34m)\u001b[0m\u001b[0;34m\u001b[0m\u001b[0;34m\u001b[0m\u001b[0m\n\u001b[0m\u001b[1;32m    140\u001b[0m         \u001b[0;32mexcept\u001b[0m \u001b[0mImportError\u001b[0m\u001b[0;34m:\u001b[0m\u001b[0;34m\u001b[0m\u001b[0;34m\u001b[0m\u001b[0m\n\u001b[1;32m    141\u001b[0m             \u001b[0mscaled\u001b[0m\u001b[0;34m,\u001b[0m \u001b[0mnchan\u001b[0m \u001b[0;34m=\u001b[0m \u001b[0mAudio\u001b[0m\u001b[0;34m.\u001b[0m\u001b[0m_validate_and_normalize_without_numpy\u001b[0m\u001b[0;34m(\u001b[0m\u001b[0mdata\u001b[0m\u001b[0;34m,\u001b[0m \u001b[0mnormalize\u001b[0m\u001b[0;34m)\u001b[0m\u001b[0;34m\u001b[0m\u001b[0;34m\u001b[0m\u001b[0m\n",
      "\u001b[0;32m~/anaconda3/lib/python3.9/site-packages/IPython/lib/display.py\u001b[0m in \u001b[0;36m_validate_and_normalize_with_numpy\u001b[0;34m(data, normalize)\u001b[0m\n\u001b[1;32m    157\u001b[0m         \u001b[0;32mimport\u001b[0m \u001b[0mnumpy\u001b[0m \u001b[0;32mas\u001b[0m \u001b[0mnp\u001b[0m\u001b[0;34m\u001b[0m\u001b[0;34m\u001b[0m\u001b[0m\n\u001b[1;32m    158\u001b[0m \u001b[0;34m\u001b[0m\u001b[0m\n\u001b[0;32m--> 159\u001b[0;31m         \u001b[0mdata\u001b[0m \u001b[0;34m=\u001b[0m \u001b[0mnp\u001b[0m\u001b[0;34m.\u001b[0m\u001b[0marray\u001b[0m\u001b[0;34m(\u001b[0m\u001b[0mdata\u001b[0m\u001b[0;34m,\u001b[0m \u001b[0mdtype\u001b[0m\u001b[0;34m=\u001b[0m\u001b[0mfloat\u001b[0m\u001b[0;34m)\u001b[0m\u001b[0;34m\u001b[0m\u001b[0;34m\u001b[0m\u001b[0m\n\u001b[0m\u001b[1;32m    160\u001b[0m         \u001b[0;32mif\u001b[0m \u001b[0mlen\u001b[0m\u001b[0;34m(\u001b[0m\u001b[0mdata\u001b[0m\u001b[0;34m.\u001b[0m\u001b[0mshape\u001b[0m\u001b[0;34m)\u001b[0m \u001b[0;34m==\u001b[0m \u001b[0;36m1\u001b[0m\u001b[0;34m:\u001b[0m\u001b[0;34m\u001b[0m\u001b[0;34m\u001b[0m\u001b[0m\n\u001b[1;32m    161\u001b[0m             \u001b[0mnchan\u001b[0m \u001b[0;34m=\u001b[0m \u001b[0;36m1\u001b[0m\u001b[0;34m\u001b[0m\u001b[0;34m\u001b[0m\u001b[0m\n",
      "\u001b[0;31mTypeError\u001b[0m: float() argument must be a string or a number, not '_io.BytesIO'"
     ]
    }
   ],
   "source": [
    "ipd.Audio(sbuf, rate=48000)"
   ]
  },
  {
   "cell_type": "code",
   "execution_count": null,
   "id": "6df057dd-b006-4134-a003-8ace6074ca6f",
   "metadata": {},
   "outputs": [],
   "source": []
  }
 ],
 "metadata": {
  "kernelspec": {
   "display_name": "Python 3 (ipykernel)",
   "language": "python",
   "name": "python3"
  },
  "language_info": {
   "codemirror_mode": {
    "name": "ipython",
    "version": 3
   },
   "file_extension": ".py",
   "mimetype": "text/x-python",
   "name": "python",
   "nbconvert_exporter": "python",
   "pygments_lexer": "ipython3",
   "version": "3.9.7"
  }
 },
 "nbformat": 4,
 "nbformat_minor": 5
}
