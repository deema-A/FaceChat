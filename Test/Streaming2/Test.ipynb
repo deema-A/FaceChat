{
 "cells": [
  {
   "cell_type": "code",
   "execution_count": 27,
   "id": "71a04413-8530-4c6a-a430-a540716320d6",
   "metadata": {},
   "outputs": [],
   "source": [
    "import os\n",
    "import numpy as np\n",
    "import cv2\n",
    "from deepface import DeepFace\n",
    "\n",
    "import time"
   ]
  },
  {
   "cell_type": "code",
   "execution_count": 4,
   "id": "542133d1-d001-4bab-a5fa-26c469158dc9",
   "metadata": {},
   "outputs": [],
   "source": [
    "img = cv2.imread('test.jpg')"
   ]
  },
  {
   "cell_type": "code",
   "execution_count": 31,
   "id": "b181ae3b-24de-4878-a680-15062ca7bd8e",
   "metadata": {},
   "outputs": [
    {
     "name": "stdout",
     "output_type": "stream",
     "text": [
      "1/1 [==============================] - 0s 12ms/step\n"
     ]
    }
   ],
   "source": [
    "start_time = time.time()\n",
    "obj = DeepFace.analyze(img, actions=['emotion'])\n",
    "end_time = time.time()"
   ]
  },
  {
   "cell_type": "code",
   "execution_count": 37,
   "id": "82302911-d409-4ad3-9a14-6db888924e7e",
   "metadata": {},
   "outputs": [
    {
     "data": {
      "text/plain": [
       "'65.15'"
      ]
     },
     "execution_count": 37,
     "metadata": {},
     "output_type": "execute_result"
    }
   ],
   "source": [
    "f\"{(end_time - start_time) * 1000:.2f}\""
   ]
  },
  {
   "cell_type": "code",
   "execution_count": null,
   "id": "f212ad19-6faf-4461-9b71-94046a92501b",
   "metadata": {},
   "outputs": [],
   "source": []
  },
  {
   "cell_type": "code",
   "execution_count": 24,
   "id": "d7af4c6e-1188-4061-9bfd-cad2ca766115",
   "metadata": {},
   "outputs": [
    {
     "data": {
      "text/plain": [
       "dict_keys(['angry', 'disgust', 'fear', 'happy', 'sad', 'surprise', 'neutral'])"
      ]
     },
     "execution_count": 24,
     "metadata": {},
     "output_type": "execute_result"
    }
   ],
   "source": [
    "obj['emotion'].keys()"
   ]
  },
  {
   "cell_type": "code",
   "execution_count": 26,
   "id": "90c92dde-e2a7-426a-92b1-6ca819c0aaaf",
   "metadata": {},
   "outputs": [
    {
     "data": {
      "text/plain": [
       "{'emotion': {'angry': 0.00016312022808051552,\n",
       "  'disgust': 3.0495318076306788e-09,\n",
       "  'fear': 0.0020860263248323463,\n",
       "  'happy': 99.20473098754883,\n",
       "  'sad': 0.0075766358349937946,\n",
       "  'surprise': 0.03479768929537386,\n",
       "  'neutral': 0.7506505120545626},\n",
       " 'dominant_emotion': 'happy',\n",
       " 'region': {'x': 333, 'y': 33, 'w': 285, 'h': 285}}"
      ]
     },
     "execution_count": 26,
     "metadata": {},
     "output_type": "execute_result"
    }
   ],
   "source": [
    "obj"
   ]
  },
  {
   "cell_type": "code",
   "execution_count": 18,
   "id": "4bc74384-9e5c-468d-97f5-b3da342384e3",
   "metadata": {},
   "outputs": [
    {
     "data": {
      "text/plain": [
       "'happy'"
      ]
     },
     "execution_count": 18,
     "metadata": {},
     "output_type": "execute_result"
    }
   ],
   "source": []
  },
  {
   "cell_type": "code",
   "execution_count": null,
   "id": "6ae7138a-7855-4ca8-a555-b5bd8b336fe9",
   "metadata": {},
   "outputs": [],
   "source": []
  }
 ],
 "metadata": {
  "kernelspec": {
   "display_name": "Python 3 (ipykernel)",
   "language": "python",
   "name": "python3"
  },
  "language_info": {
   "codemirror_mode": {
    "name": "ipython",
    "version": 3
   },
   "file_extension": ".py",
   "mimetype": "text/x-python",
   "name": "python",
   "nbconvert_exporter": "python",
   "pygments_lexer": "ipython3",
   "version": "3.9.7"
  }
 },
 "nbformat": 4,
 "nbformat_minor": 5
}
