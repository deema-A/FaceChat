{
 "cells": [
  {
   "cell_type": "code",
   "execution_count": 1,
   "metadata": {},
   "outputs": [],
   "source": [
    "import os"
   ]
  },
  {
   "cell_type": "code",
   "execution_count": 11,
   "metadata": {},
   "outputs": [],
   "source": [
    "dialogues = {\n",
    "    \"angry\": \"This is a conversation between sony agent and potential client \\nUser : Hi, I want to know about Sony life insurance plans\\nand the user is angry \\n \\nSony Agent: Hi there, I apologize for any inconvenience this may have caused. I'd be happy to help you with any questions you may have about Sony life insurance plans. What would you like to know?\\nUser : I am confused your website is not clear !! I am looking for an insurance and want to start ASAP\\nand the user is angry \\n \\nSony Agent: I apologize for any confusion our website may have caused. We would be happy to help you get started with a Sony life insurance plan. Can you please tell me a bit more about what you are looking for so we can help you find the best plan for you?\\nUser :  a plan with reasonable subscription\\nand the user is angry \\n \\nSony Agent: I understand that you are looking for a plan with reasonable subscription. We have several plans that may fit your needs. Can you tell me a bit more about what you are looking for in terms of coverage and budget so I can help you find the best plan for you?\\nUser : by budget is limited and what type of coverage you have again your website is not clear\\nand the user is angry \\n \\nSony Agent: I apologize for any confusion our website may have caused. We have several plans that may fit your needs and budget. Can you tell me a bit more about what type of coverage you are looking for so I can help you find the best plan for you?\\nUser : what plans you have?\\nand the user is angry \\n \\nSony Agent: I apologize for any frustration you may be feeling. We have several plans available, including term life insurance, whole life insurance, and universal life insurance. Can you tell me a bit more about what type of coverage you are looking for so I can help you find the best plan for you?\\nUser : I am looking for long term life plan\\nand the user is angry \\n \\nSony Agent: I understand that you are looking for a long-term life plan. We have several plans that may fit your needs. Can you tell me a bit more about what type of coverage you are looking for and your budget so I can help you find the best plan for you?\\n\",\n",
    "    \"disgust\": \"This is a conversation between sony agent and potential client \\nUser : Hey, I want to know about Sony life insurance\\nand the user is disgust \\n \\nSony Agent: Hi there! I understand that you are interested in learning more about Sony Life Insurance. I am happy to help answer any questions you may have. What would you like to know?\\nUser : I subscribed to your services years ago and I was not satisfied with the way this insurance thing has been handled\\nand the user is disgust \\n \\nSony Agent: I apologize for any dissatisfaction you may have experienced. Can you provide more details about the issue you had with our services? I would be happy to look into it and see if there is anything we can do to improve your experience.\\nUser : I was hoping for a different outcome but what happend is that you terminated my subscription this was really\\nand the user is disgust \\n \\nSony Agent: I apologize for any inconvenience this may have caused. Can you provide more details about the issue you had with your subscription? I would be happy to look into it and see if there is anything we can do to rectify the situation.\\n\",\n",
    "    \"fear\": \"This is a conversation between sony agent and potential client \\nUser : Hey, I want to know about Sony life insurance\\nand the user is fear \\n \\nSony Agent: Hi there! We understand your concern and that's why we are here to help. Sony Life Insurance offers a variety of plans to meet your needs. Our plans provide coverage for death, disability, and other life events. We also offer a range of investment options to help you meet your financial goals. Please let us know if you would like more information about our life insurance plans.\\nUser : I want one ASAP for my father, I am really worried about him and afraid of losing him someday\\nand the user is fear \\n \\nSony Agent: We understand your concern and we are here to help. We offer a range of life insurance plans to meet your needs. Our plans provide coverage for death, disability, and other life events. We also have a range of investment options to help you meet your financial goals. Please let us know if you would like more information about our life insurance plans. We can provide you with a quote and get you set up with a policy as soon as possible.\\nUser : any coverage that helps him live better, he is so sick and I am his only child\\nand the user is fear \\n \\nSony Agent: We understand your concern and we are here to help. We offer a range of life insurance plans that can provide coverage for medical expenses, long-term care, and other life events. Our plans also provide coverage for death and disability, so you can be sure that your father will be taken care of in the event of his passing. Please let us know if you would like more information about our life insurance plans. \\nUser : will it help covering his hospital expenses ASAP?\\nand the user is fear \\n \\nSony Agent: Yes, our life insurance plans can help cover your father's hospital expenses. Our plans provide coverage for medical expenses, long-term care, and other life events. We also offer a range of investment options to help you meet your financial goals. Please let us know if you would like more information about our life insurance plans. We can provide you with a quote and get you set up with a policy as soon as possible.\\n\",\n",
    "    \"happy\": \"This is a conversation between sony agent and potential client \\nUser : Hi, I want to know about Sony life insurance\\nand the user is happy \\n \\nSony Agent: Hi there! It's great to hear that you're interested in learning more about Sony Life Insurance. We offer a variety of life insurance policies to meet your needs. Our policies provide coverage for death, disability, and other life events. We also offer a range of investment options to help you reach your financial goals. Please let me know if you have any questions or would like to discuss your options further.\\nUser : That sounds amazing,I am happy to hear more about kids life insurance, will be expecting a baby girl next month\\nand the user is happy \\n \\nSony Agent: Congratulations on your upcoming arrival! We have a range of life insurance policies specifically designed for kids. Our policies provide coverage for death, disability, and other life events. We also offer a range of investment options to help you reach your financial goals for your little one. Please let me know if you have any questions or would like to discuss your options further.\\nUser : that is awesome, the educational plan snouds great you can talk more about it\\nand the user is happy \\n \\nSony Agent: Absolutely! We offer an educational plan that provides coverage for tuition, room and board, books, and other related expenses. The plan also includes an investment component to help you save for your child's future. Please let me know if you have any questions or would like to discuss your options further.\\nUser : I will be glad talking to you in few minutes, bye\\nand the user is happy \\n \\nSony Agent: Sounds great! I'll be here when you're ready. Have a great day!\\n\",\n",
    "    \"sad\": \"This is a conversation between sony agent and potential client \\nUser : Hi, I want to know more about Sony life insurance\\nand the user is sad \\n \\nSony Agent: Hi there, I'm sorry to hear that you're feeling down. I'm here to help answer any questions you have about Sony Life Insurance. What would you like to know?\\nUser : How much does the life insurance normally cost?\\nand the user is sad \\n \\nSony Agent: I understand that you're feeling down, and I'm here to help. The cost of Sony Life Insurance depends on a variety of factors, including your age, health, and the type of coverage you choose. I'd be happy to provide you with a quote if you'd like.\\nUser : how much is average (US dollars)?\\nand the user is sad \\n \\nSony Agent: I'm sorry that you're feeling down. The average cost of Sony Life Insurance in the US is around $30 per month. However, as I mentioned before, this cost can vary depending on your age, health, and the type of coverage you choose. I'm here to help you find the best coverage for your needs.\\nUser : no way, I cannot afford that\\nand the user is sad \\n \\nSony Agent: I understand that you're feeling down and that $30 per month may seem like a lot. I'm here to help you find the best coverage for your needs at the most affordable rate. Is there any other information I can provide to help you make an informed decision?\\nUser : I just got laid off from work, I need a plan that could help me in the upcoming days\\nand the user is sad \\n \\nSony Agent: I'm sorry to hear that you've been laid off. We have a variety of life insurance plans that could help provide you with financial security in the upcoming days. Please let me know if you'd like me to provide you with more information about our plans and how they could help you.\\nUser : yes you can tell me about the life insurance\\nand the user is sad \\n \\nSony Agent: Absolutely. Sony Life Insurance offers a variety of plans to meet your needs and budget. Our plans provide financial security for you and your family in the event of an unexpected death or disability. We also offer additional benefits such as critical illness coverage, long-term care coverage, and more. Please let me know if you'd like me to provide you with more information about our plans and how they could help you.\\n\",\n",
    "    \"surprise\": \"This is a conversation between sony agent and potential client \\nUser : Hi, I want to know about Sony Life Insurance plans\\nand the user is surprise \\n \\nSony Agent: Hi there! We are so glad you are interested in learning more about our Sony Life Insurance plans. We offer a variety of plans to suit your needs and budget. Our plans are designed to provide financial security and peace of mind in the event of an unexpected death. We also provide access to a network of financial advisors who can help you make the best decision for your family. Please let me know if you have any questions.\\nUser : oh, really what about more educational oriented plans?\\nand the user is surprise \\n \\nSony Agent: Absolutely! We offer a range of educational plans that can help you save for your child's college education. Our plans are designed to provide tax-advantaged savings and are flexible to fit your family's needs. Please let me know if you would like to learn more about our educational plans.\\nUser : sounds exciting, what ages you accept for this plan?\\nand the user is surprise \\n \\nSony Agent: Our educational plans are available for children ages 0-18. We also offer plans for adults who are looking to save for their own education. Please let me know if you would like to learn more about our educational plans.\\nUser :  COOL, tell me about the ones for teenagers\\nand the user is surprise \\n \\nSony Agent: Absolutely! We offer a range of educational plans specifically designed for teenagers. Our plans provide tax-advantaged savings and are flexible to fit your family's needs. We also offer access to a network of financial advisors who can help you make the best decision for your family. Please let me know if you would like to learn more about our educational plans for teenagers.\\nUser : that is awesone \\nand the user is surprise \\n \\nSony Agent: We're glad to hear that! Please let us know if you have any further questions about our educational plans for teenagers. We're here to help you make the best decision for your family.\\n\",\n",
    "    \"neutral\": \"This is a conversation between sony agent and potential client \\nUser : Hi, I want to know more about sony life insurance\\nand the user is neutral \\n \\nSony Agent : Hi there! It's great to hear that you're interested in learning more about Sony Life Insurance. We offer a range of life insurance solutions designed to meet your needs. Our plans are flexible, so you can tailor them to your individual circumstances. We also offer competitive rates and excellent customer service. Would you like to know more about our plans and how they could benefit you?\\nUser : what about plans for seniors?\\nand the user is neutral \\n \\nSony Agent : Absolutely! We offer a range of life insurance plans specifically designed for seniors. Our plans are tailored to meet the needs of seniors, and offer competitive rates and excellent customer service. Would you like to know more about our plans and how they could benefit you?\\nUser : what about health plans?\\nand the user is neutral \\n \\nSony Agent : We do not offer health insurance plans, but we do offer life insurance plans that can help you protect your family in the event of an unexpected death. Our plans are flexible, so you can tailor them to your individual circumstances. We also offer competitive rates and excellent customer service. Would you like to know more about our plans and how they could benefit you?\\nUser : will the life insurance plans cover medical expenses?\\nand the user is neutral \\n \\nSony Agent : Unfortunately, our life insurance plans do not cover medical expenses. However, they can help protect your family in the event of an unexpected death, and provide financial security for them in the future. Would you like to know more about our plans and how they could benefit you?\\n\"\n",
    "}"
   ]
  },
  {
   "cell_type": "code",
   "execution_count": 13,
   "metadata": {},
   "outputs": [
    {
     "name": "stdout",
     "output_type": "stream",
     "text": [
      "This is a conversation between sony agent and potential client \n",
      "User : Hi, I want to know more about Sony life insurance\n",
      "and the user is sad \n",
      " \n",
      "Sony Agent: Hi there, I'm sorry to hear that you're feeling down. I'm here to help answer any questions you have about Sony Life Insurance. What would you like to know?\n",
      "User : How much does the life insurance normally cost?\n",
      "and the user is sad \n",
      " \n",
      "Sony Agent: I understand that you're feeling down, and I'm here to help. The cost of Sony Life Insurance depends on a variety of factors, including your age, health, and the type of coverage you choose. I'd be happy to provide you with a quote if you'd like.\n",
      "User : how much is average (US dollars)?\n",
      "and the user is sad \n",
      " \n",
      "Sony Agent: I'm sorry that you're feeling down. The average cost of Sony Life Insurance in the US is around $30 per month. However, as I mentioned before, this cost can vary depending on your age, health, and the type of coverage you choose. I'm here to help you find the best coverage for your needs.\n",
      "User : no way, I cannot afford that\n",
      "and the user is sad \n",
      " \n",
      "Sony Agent: I understand that you're feeling down and that $30 per month may seem like a lot. I'm here to help you find the best coverage for your needs at the most affordable rate. Is there any other information I can provide to help you make an informed decision?\n",
      "User : I just got laid off from work, I need a plan that could help me in the upcoming days\n",
      "and the user is sad \n",
      " \n",
      "Sony Agent: I'm sorry to hear that you've been laid off. We have a variety of life insurance plans that could help provide you with financial security in the upcoming days. Please let me know if you'd like me to provide you with more information about our plans and how they could help you.\n",
      "User : yes you can tell me about the life insurance\n",
      "and the user is sad \n",
      " \n",
      "Sony Agent: Absolutely. Sony Life Insurance offers a variety of plans to meet your needs and budget. Our plans provide financial security for you and your family in the event of an unexpected death or disability. We also offer additional benefits such as critical illness coverage, long-term care coverage, and more. Please let me know if you'd like me to provide you with more information about our plans and how they could help you.\n",
      "\n"
     ]
    }
   ],
   "source": [
    "print(dialogues[\"sad\"])"
   ]
  },
  {
   "cell_type": "code",
   "execution_count": null,
   "metadata": {},
   "outputs": [],
   "source": []
  }
 ],
 "metadata": {
  "kernelspec": {
   "display_name": "base",
   "language": "python",
   "name": "python3"
  },
  "language_info": {
   "codemirror_mode": {
    "name": "ipython",
    "version": 3
   },
   "file_extension": ".py",
   "mimetype": "text/x-python",
   "name": "python",
   "nbconvert_exporter": "python",
   "pygments_lexer": "ipython3",
   "version": "3.9.7"
  },
  "orig_nbformat": 4,
  "vscode": {
   "interpreter": {
    "hash": "29971f1763eb045a50ba33f0b6018d366307b50e59f009ec46fbd4e0e484bada"
   }
  }
 },
 "nbformat": 4,
 "nbformat_minor": 2
}
